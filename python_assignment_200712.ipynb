{
  "cells": [
    {
      "cell_type": "markdown",
      "metadata": {
        "id": "BKCrcukdE8Bb"
      },
      "source": [
        "# Assignment: Classification\n",
        "\n",
        "Classification refers to categorizing the given data into classes. For example,\n",
        "- Given an image of hand-written character, identifying the character (multi-class classification)\n",
        "- Given an image, annotating it with all the objects present in the image (multi-label classification)\n",
        "- Classifying an email as spam or non-spam (binary classification)\n",
        "- Classifying a tumor as benign or malignant and so on\n",
        "\n",
        "In this assignment, we will be building a classifier to classify emails as spam or non-spam. We will be using the Kaggle dataset [Spam or Not Spam Dataset](https://www.kaggle.com/datasets/ozlerhakan/spam-or-not-spam-dataset?resource=download) for this task. \n",
        "\n",
        "**Note**: You cannot load any libraries other than the mentioned ones.\n",
        "\n",
        "\n"
      ]
    },
    {
      "cell_type": "markdown",
      "metadata": {
        "id": "Irp6f7_2crfu"
      },
      "source": [
        "### Data pre-processing\n",
        "The first step in every machine learning algorithm is to process the raw data in some meaningful representations. We will be using the [Bag-of-Words](https://towardsdatascience.com/a-simple-explanation-of-the-bag-of-words-model-b88fc4f4971) representation to process the text. It comprises of following steps:\n",
        "\n",
        "- Process emails line-by-line to extract all the words.\n",
        "- Replace extracted words by their stem (root) word. This is known as stemming and lematization.\n",
        "- Remove stop words like and, or, is, am, and so on.\n",
        "- Assign a unique index to each word. This forms the vocabulary.\n",
        "- Represent each email as a binary vector of length equal to the size of the vocabulary such that the $i^{th}$ element of the vector is 1 iff the $i^th$ word is present in the email.\n",
        "\n",
        "Here we provide you with the function signature along with the expected functionality. You are expected to complete them accordingly. "
      ]
    },
    {
      "cell_type": "code",
      "execution_count": 2,
      "metadata": {
        "colab": {
          "base_uri": "https://localhost:8080/"
        },
        "id": "3vXwE6DfRaH7",
        "outputId": "185fb383-b192-4227-95e0-ad3198c0beb8"
      },
      "outputs": [
        {
          "output_type": "stream",
          "name": "stdout",
          "text": [
            "[nltk_data] Downloading package stopwords to /root/nltk_data...\n",
            "[nltk_data]   Unzipping corpora/stopwords.zip.\n"
          ]
        },
        {
          "output_type": "execute_result",
          "data": {
            "text/plain": [
              "True"
            ]
          },
          "metadata": {},
          "execution_count": 2
        }
      ],
      "source": [
        "import nltk\n",
        "nltk.download('stopwords')"
      ]
    },
    {
      "cell_type": "code",
      "execution_count": 3,
      "metadata": {
        "id": "wIlTOyyPn-mN"
      },
      "outputs": [],
      "source": [
        "import numpy as np\n",
        "from nltk.stem import PorterStemmer\n",
        "from nltk.corpus import stopwords\n",
        "\n",
        "vocab={}\n",
        "i=0\n",
        "\n",
        "# takes an email as an argument\n",
        "# read email line-by-line and extract all the words\n",
        "# return list of extracted words\n",
        "def read_email(email_string):\n",
        "    email_words=email_string.split()\n",
        "    return email_words\n",
        "  \n",
        "# takes a list of words as an argument\n",
        "# replace each word by their stem word\n",
        "# return list of stem words\n",
        "def stemming(words_list):\n",
        "    ps = PorterStemmer()\n",
        "    stem_words_list=[]\n",
        "    for w in words_list:\n",
        "        a=ps.stem(w)\n",
        "        stem_words_list.append(a)\n",
        "    return stem_words_list\n",
        "\n",
        "\n",
        "# takes a list of stem-words as an argument\n",
        "# remove stop words\n",
        "# return list of stem words after removing stop words\n",
        "def remove_stop_words(stem_words_list):\n",
        "    stem_no_stop_words_list=[word for word in stem_words_list if word not in stopwords.words('english')]\n",
        "    return stem_no_stop_words_list\n",
        "\n",
        "# takes a list of stem-words as an argument\n",
        "# add new words to the vocabulary and assign a unique index to them\n",
        "# returns new vocabulary\n",
        "def build_vocabulary(stem_word_list):\n",
        "    global vocab\n",
        "    global i\n",
        "    for word in stem_word_list[0]:\n",
        "        if word not in vocab:\n",
        "            vocab.update({word:i})\n",
        "            i+=1\n",
        "\n",
        "# takes a list of stem-words and vocabulary as an argument\n",
        "# returns bow representation\n",
        "def get_bow(stem_words,vocab):\n",
        "    email_bow=[]\n",
        "    for i in range(len(vocab)):\n",
        "        email_bow.append(0)\n",
        "    for w in stem_words:\n",
        "        email_bow[vocab[w]]+=1\n",
        "    return email_bow\n",
        "\n",
        "def string_to_list(email):\n",
        "    return(remove_stop_words(stemming(read_email(email))))\n",
        "    \n",
        "def text_to_bow(llw):\n",
        "    global vocab\n",
        "    a=[]\n",
        "    for l in llw:\n",
        "        a.append([get_bow(l[0],vocab),l[1]])\n",
        "    return a\n",
        "\n",
        "# read the entire dataset\n",
        "# convert emails to bow and maintain their labels\n",
        "# call function text_to_bow()\n",
        "def read_data(file_name):\n",
        "    f=open(file_name,\"r\",encoding=\"utf-8\")\n",
        "    lines=f.readlines()\n",
        "    lines=lines[1:]\n",
        "    a=[]\n",
        "    for line in lines:\n",
        "        a.append([string_to_list(line.split(\",\")[0]),int(line.split(\",\")[1][0])])\n",
        "    for lis in a:\n",
        "        build_vocabulary(lis)\n",
        "    data=text_to_bow(a)\n",
        "    return data\n",
        "Data=read_data(\"data.csv\")\n",
        "# data is to be read from data.csv file . If you want to read from any other file, write it's name in read_data function call"
      ]
    },
    {
      "cell_type": "markdown",
      "metadata": {
        "id": "d0cDiGt6nkPY"
      },
      "source": [
        "### Data Visualization\n",
        "Let's understand the data distribution\n",
        "- Visualize the frequency of word-occurence in all the emails(spam + non-spam)\n",
        "- Visualize the freuency of word-occurence for spam and non-spam emails separately"
      ]
    },
    {
      "cell_type": "code",
      "execution_count": 4,
      "metadata": {
        "colab": {
          "base_uri": "https://localhost:8080/",
          "height": 803
        },
        "id": "4vJLcTxDLZsh",
        "outputId": "452f99b6-a506-41cb-ff75-e987752b02bc"
      },
      "outputs": [
        {
          "output_type": "display_data",
          "data": {
            "text/plain": [
              "<Figure size 432x288 with 1 Axes>"
            ],
            "image/png": "[encoded data removed]"
          },
          "metadata": {
            "needs_background": "light"
          }
        },
        {
          "output_type": "display_data",
          "data": {
            "text/plain": [
              "<Figure size 432x288 with 1 Axes>"
            ],
            "image/png": "[encoded data removed]"
          },
          "metadata": {
            "needs_background": "light"
          }
        },
        {
          "output_type": "display_data",
          "data": {
            "text/plain": [
              "<Figure size 432x288 with 1 Axes>"
            ],
            "image/png": "[encoded data removed]"
          },
          "metadata": {
            "needs_background": "light"
          }
        }
      ],
      "source": [
        "import matplotlib.pyplot as plt\n",
        "\n",
        "# visuallze data distribution\n",
        "\n",
        "\n",
        "      \n",
        "def data_vis(Data):\n",
        "    a=[0]*len(vocab)\n",
        "    b=[0]*len(vocab)\n",
        "    c=[0]*len(vocab)\n",
        "    for l in Data:\n",
        "        if l[1]==1:\n",
        "            for j in range(len(vocab)):\n",
        "                a[j]+=l[0][j]\n",
        "                c[j]+=l[0][j]\n",
        "        else:\n",
        "            for j in range(len(vocab)):\n",
        "                b[j]+=l[0][j]\n",
        "                c[j]+=l[0][j]\n",
        "    plt.plot(a,color=\"r\",label=\"spam\")\n",
        "    plt.xlabel('Words')\n",
        "    plt.ylabel('Frequency')\n",
        "    plt.legend()\n",
        "    plt.show()\n",
        "\n",
        "    plt.plot(b,color=\"g\",label=\"not_spam\")\n",
        "    plt.xlabel('Words')\n",
        "    plt.ylabel('Frequency')\n",
        "    plt.legend()\n",
        "    plt.show()\n",
        "\n",
        "    plt.plot(b,color=\"y\",label=\"all_mail\")\n",
        "    plt.xlabel('Words')\n",
        "    plt.ylabel('Frequency')\n",
        "    plt.legend()\n",
        "    plt.show()\n",
        "\n",
        "data_vis(Data)"
      ]
    },
    {
      "cell_type": "markdown",
      "metadata": {
        "id": "LPq-3nTzGcdX"
      },
      "source": [
        "### Learn a Classifier\n",
        "Split the dataset randomly in the ratio 80:20 as the training and test dataset. Use only training dataset to learn the classifier. No test data should be used during training. Test data will only be used during evaluation.\n",
        "\n",
        "Now let us try to use ML algorithms to classify emails as spam or non-spam. You are supposed to implement [SVM](https://scikit-learn.org/stable/modules/svm.html) and [K-Nearest Neighbour](https://scikit-learn.org/stable/modules/generated/sklearn.neighbors.KNeighborsClassifier.html) algorithm available in scikit-learn using the same training dataset for both."
      ]
    },
    {
      "cell_type": "code",
      "execution_count": 5,
      "metadata": {
        "id": "IMpuaPCKHxwh"
      },
      "outputs": [],
      "source": [
        "from sklearn.neighbors import KNeighborsClassifier\n",
        "from sklearn import svm\n",
        "\n",
        "# split dataset\n",
        "def split(data):\n",
        "    np.random.shuffle(data)\n",
        "    x=[]\n",
        "    y=[]\n",
        "    for l in data:\n",
        "        x.append(l[0])\n",
        "        y.append(l[1])\n",
        "    m=len(x)\n",
        "    x_train=x[0:int(0.8*m)]\n",
        "    y_train=y[0:int(0.8*m)]\n",
        "    x_test=x[int(0.8*m):]\n",
        "    y_test=y[int(0.8*m):]\n",
        "    train_data=(x_train,y_train)\n",
        "    test_data=(x_test,y_test)\n",
        "    return train_data, test_data\n",
        "\n",
        "# learn a SVM model\n",
        "# use the model to make prediction\n",
        "# return the model predictions on train and test dataset\n",
        "def svm_classifier(train_data,test_data):\n",
        "    X=train_data[0]\n",
        "    Y=train_data[1]\n",
        "    clf=svm.SVC()\n",
        "    clf.fit(X,Y)\n",
        "    predict_labels=(clf.predict(train_data[0]),clf.predict(test_data[0]))\n",
        "    return predict_labels\n",
        "\n",
        "# implement k-NN algorithm\n",
        "# use the model to make prediction\n",
        "# return the model predictions on train and test dataset\n",
        "def knn_classifier(train_data,test_data):\n",
        "    X=train_data[0]\n",
        "    Y=train_data[1]\n",
        "    neigh = KNeighborsClassifier()\n",
        "    neigh.fit(X, Y)\n",
        "    predict_labels=(neigh.predict(train_data[0]),neigh.predict(test_data[0]))\n",
        "    return predict_labels\n",
        "\n",
        "\n",
        "train_data, test_data = split(Data)\n",
        "svm_train_predictions, svm_test_predictions = svm_classifier(train_data, test_data)\n",
        "knn_train_predictions, knn_test_predictions = knn_classifier(train_data, test_data)"
      ]
    },
    {
      "cell_type": "markdown",
      "metadata": {
        "id": "SlCwYvluHqQz"
      },
      "source": [
        "### Model Evaluation\n",
        "Compare the SVM and k-NN model using metrics\n",
        "- Accuracy\n",
        "- [AUC score](https://scikit-learn.org/stable/modules/generated/sklearn.metrics.auc.html)\n"
      ]
    },
    {
      "cell_type": "code",
      "execution_count": 6,
      "metadata": {
        "colab": {
          "base_uri": "https://localhost:8080/"
        },
        "id": "X3KmcTpqKbGI",
        "outputId": "cd1b3ef4-aadb-40cd-b299-02b81608707d"
      },
      "outputs": [
        {
          "output_type": "stream",
          "name": "stdout",
          "text": [
            "SVM classifier test accuracy score : 0.9583333333333334\n",
            "SVM classifier train accuracy score : 0.9541666666666667\n",
            "k-NN classifier test accuracy score : 0.8266666666666667\n",
            "k-NN classifier train accuracy score : 0.88625\n",
            "SVM classifier test AUC score : 0.8626373626373627\n",
            "SVM classifier train AUC score : 0.8664970361737845\n",
            "k-NN classifier test AUC score : 0.7579610958785811\n",
            "k-NN classifier train AUC score : 0.8381905616840575\n"
          ]
        }
      ],
      "source": [
        "from sklearn import metrics\n",
        "\n",
        "# compute accuracy \n",
        "def compute_accuracy(true_labels, predicted_labels):\n",
        "    acc=metrics.accuracy_score(true_labels,predicted_labels)\n",
        "    return acc\n",
        "\n",
        "# compute AUC score \n",
        "def compute_auc(true_labels, predicted_labels):\n",
        "    auc=metrics.roc_auc_score(true_labels,predicted_labels)\n",
        "    return auc\n",
        "\n",
        "# write code to print train and test accuracy and AUC score of SVM and k-NN classifier\n",
        "print(\"SVM classifier test accuracy score :\" , compute_accuracy(test_data[1],svm_test_predictions))\n",
        "print(\"SVM classifier train accuracy score :\" , compute_accuracy(train_data[1],svm_train_predictions))\n",
        "print(\"k-NN classifier test accuracy score :\" , compute_accuracy(test_data[1],knn_test_predictions))\n",
        "print(\"k-NN classifier train accuracy score :\" , compute_accuracy(train_data[1],knn_train_predictions))\n",
        "print(\"SVM classifier test AUC score :\" , compute_auc(test_data[1],svm_test_predictions))\n",
        "print(\"SVM classifier train AUC score :\" , compute_auc(train_data[1],svm_train_predictions))\n",
        "print(\"k-NN classifier test AUC score :\" , compute_auc(test_data[1],knn_test_predictions))\n",
        "print(\"k-NN classifier train AUC score :\" , compute_auc(train_data[1],knn_train_predictions))"
      ]
    }
  ],
  "metadata": {
    "colab": {
      "collapsed_sections": [],
      "name": "python_assignment (1).ipynb",
      "provenance": [],
      "toc_visible": true
    },
    "kernelspec": {
      "display_name": "Python 3",
      "name": "python3"
    },
    "language_info": {
      "codemirror_mode": {
        "name": "ipython",
        "version": 3
      },
      "file_extension": ".py",
      "mimetype": "text/x-python",
      "name": "python",
      "nbconvert_exporter": "python",
      "pygments_lexer": "ipython3",
      "version": "3.10.4"
    }
  },
  "nbformat": 4,
  "nbformat_minor": 0
}